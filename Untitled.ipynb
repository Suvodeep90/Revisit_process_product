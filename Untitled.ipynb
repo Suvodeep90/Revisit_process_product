{
 "cells": [
  {
   "cell_type": "code",
   "execution_count": 3,
   "metadata": {},
   "outputs": [],
   "source": [
    "import pickle"
   ]
  },
  {
   "cell_type": "code",
   "execution_count": 24,
   "metadata": {},
   "outputs": [],
   "source": [
    "with open('results/Performance/RQ6_product.pkl', 'rb') as handle:\n",
    "    final_result = pickle.load(handle)"
   ]
  },
  {
   "cell_type": "code",
   "execution_count": 25,
   "metadata": {},
   "outputs": [],
   "source": [
    "final_data = {'predicted_probability':{}, 'train_probability':{}}\n",
    "final_data['predicted_probability'] = {k: final_result['predicted_probability'][k] for k in list(final_result['predicted_probability'].keys())[:250]}\n",
    "final_data['train_probability'] = {k: final_result['train_probability'][k] for k in list(final_result['train_probability'].keys())[:250]}\n"
   ]
  },
  {
   "cell_type": "code",
   "execution_count": 26,
   "metadata": {},
   "outputs": [],
   "source": [
    "\n",
    "with open('results/Performance/RQ6_product_new.pkl', 'wb') as handle:\n",
    "    pickle.dump(final_data, handle, protocol=pickle.HIGHEST_PROTOCOL)\n",
    "                             "
   ]
  },
  {
   "cell_type": "code",
   "execution_count": null,
   "metadata": {},
   "outputs": [],
   "source": []
  }
 ],
 "metadata": {
  "kernelspec": {
   "display_name": "Python 3",
   "language": "python",
   "name": "python3"
  },
  "language_info": {
   "codemirror_mode": {
    "name": "ipython",
    "version": 3
   },
   "file_extension": ".py",
   "mimetype": "text/x-python",
   "name": "python",
   "nbconvert_exporter": "python",
   "pygments_lexer": "ipython3",
   "version": "3.8.3"
  }
 },
 "nbformat": 4,
 "nbformat_minor": 4
}
